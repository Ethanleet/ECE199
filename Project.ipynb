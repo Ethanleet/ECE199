{
 "cells": [
  {
   "cell_type": "markdown",
   "metadata": {
    "collapsed": true
   },
   "source": [
    "Paper:\n",
    "\n",
    "http://www.jmlr.org/proceedings/papers/v40/Kamath15.pdf\n",
    "\n",
    "k = number of symbols \n",
    "n = number of samples\n",
    "\n",
    "Distributions:\n",
    "\n",
    "Zipf distribution (with different parameters: 1, 1.5, 0.5)\n",
    "\n",
    "Uniform distribution\n",
    "\n",
    "Option to vary k\n",
    "\n",
    "Step distribution\n",
    "\n",
    "Estimators: Add-constant (beta = 0, 0.5, 1, sqrt(n))\n",
    "\n",
    "Error metrics (loss function): L2, L1, chi squared, KL divergence"
   ]
  },
  {
   "cell_type": "code",
   "execution_count": 72,
   "metadata": {
    "collapsed": true
   },
   "outputs": [],
   "source": [
    "# Include libraries\n",
    "import numpy as np"
   ]
  },
  {
   "cell_type": "code",
   "execution_count": 73,
   "metadata": {
    "collapsed": false
   },
   "outputs": [],
   "source": [
    "# Parameter settings\n",
    "k = 5      # number of symbols\n",
    "n = 10000   # number of samples\n",
    "beta = 1   # param for add-constant estimator\n",
    "p = [0.2, 0.3, 0.2, 0.2, 0.1] # probability vector\n",
    "maxIterations = 10"
   ]
  },
  {
   "cell_type": "code",
   "execution_count": 74,
   "metadata": {
    "collapsed": false
   },
   "outputs": [],
   "source": [
    "# Integrated loss function\n",
    "def loss(p, q, funcs):\n",
    "    ret_val = []\n",
    "    for func in funcs:\n",
    "        if func == \"L1\":\n",
    "            # L1 distance\n",
    "            ret_val.append(np.sum(np.absolute(p - q)))\n",
    "        elif func == \"L2_sq\":\n",
    "            # L2 squared distance\n",
    "            ret_val.append(np.sum(np.power((p - q), 2)))\n",
    "        elif func == \"chi_sq\":\n",
    "            # chi-squared divergence\n",
    "            ret_val.append(np.sum(np.power((p - q), 2)/q))\n",
    "        elif func == \"KL_div\":\n",
    "            # KL-divergence\n",
    "            ret_val.append(np.sum(p * np.log(p/q)))\n",
    "        else:\n",
    "            ret_val.append(-1)\n",
    "    return ret_val"
   ]
  },
  {
   "cell_type": "code",
   "execution_count": 75,
   "metadata": {
    "collapsed": false
   },
   "outputs": [],
   "source": [
    "# Uniform distribution\n",
    "samples = np.sort(np.random.uniform(0,1,n))\n",
    "symbol_cnt = np.zeros(k, dtype=int) # count for each symbol\n",
    "\n",
    "# Assign symbol & count symbols\n",
    "# TODO: Can be optimized?\n",
    "symbol_index = 0\n",
    "symbol_val = p[0]\n",
    "for sample_index in range(0, n):\n",
    "    if samples[sample_index] >= symbol_val:\n",
    "        symbol_index += 1\n",
    "        symbol_val += p[symbol_index]\n",
    "    symbol_cnt[symbol_index] += 1"
   ]
  },
  {
   "cell_type": "code",
   "execution_count": 76,
   "metadata": {
    "collapsed": false
   },
   "outputs": [],
   "source": [
    "# Add-constant estimator\n",
    "p_est = np.empty(k, dtype=float) # probability vector for each symbol\n",
    "\n",
    "for i in range(0, k):\n",
    "    p_est[i] = (symbol_cnt[i] + beta) / (n + k * beta)"
   ]
  },
  {
   "cell_type": "code",
   "execution_count": 77,
   "metadata": {
    "collapsed": false
   },
   "outputs": [
    {
     "name": "stdout",
     "output_type": "stream",
     "text": [
      "[0.012093953023488216, 3.539959155854344e-05, 0.00019913221714025936, 9.9418032047736849e-05]\n"
     ]
    }
   ],
   "source": [
    "# Error calculation\n",
    "error = loss(p, p_est, [\"L1\", \"L2_sq\", \"chi_sq\", \"KL_div\"])\n",
    "print(error)"
   ]
  },
  {
   "cell_type": "code",
   "execution_count": null,
   "metadata": {
    "collapsed": true
   },
   "outputs": [],
   "source": []
  }
 ],
 "metadata": {
  "kernelspec": {
   "display_name": "Python 3",
   "language": "python",
   "name": "python3"
  },
  "language_info": {
   "codemirror_mode": {
    "name": "ipython",
    "version": 3
   },
   "file_extension": ".py",
   "mimetype": "text/x-python",
   "name": "python",
   "nbconvert_exporter": "python",
   "pygments_lexer": "ipython3",
   "version": "3.5.1"
  }
 },
 "nbformat": 4,
 "nbformat_minor": 0
}
